{
  "nbformat": 4,
  "nbformat_minor": 0,
  "metadata": {
    "colab": {
      "provenance": []
    },
    "kernelspec": {
      "name": "python3",
      "display_name": "Python 3"
    },
    "language_info": {
      "name": "python"
    }
  },
  "cells": [
    {
      "cell_type": "code",
      "execution_count": null,
      "metadata": {
        "id": "ItAqpOucR3W3"
      },
      "outputs": [],
      "source": [
        "import pandas as pd\n",
        "import yfinance as yf\n",
        "\n",
        "symbols = ['AAPL', 'GOOGL', 'MSFT']\n",
        "\n",
        "short_ma_period = 50\n",
        "long_ma_period = 200\n",
        "\n",
        "initial_balance = 100000\n",
        "position_sizes = {symbol: 0 for symbol in symbols}\n",
        "\n",
        "stock_data = yf.download(symbols, start='2022-01-01', end='2022-12-31')\n",
        "\n",
        "stock_data['Short_MA'] = stock_data['Close'].rolling(short_ma_period).mean()\n",
        "stock_data['Long_MA'] = stock_data['Close'].rolling(long_ma_period).mean()\n",
        "\n",
        "for symbol in symbols:\n",
        "    for i in range(1, len(stock_data)):\n",
        "        if stock_data['Short_MA'].iloc[i-1] < stock_data['Long_MA'].iloc[i-1] and \\\n",
        "                stock_data['Short_MA'].iloc[i] > stock_data['Long_MA'].iloc[i]:\n",
        "            if position_sizes[symbol] == 0:\n",
        "                close_price = stock_data['Close'].loc[stock_data.index[i]][symbol]\n",
        "                position_sizes[symbol] = initial_balance / close_price\n",
        "                print(f'[{stock_data.index[i]}] Buy {position_sizes[symbol]} shares of {symbol} at ${close_price:.2f}')\n",
        "\n",
        "        if stock_data['Short_MA'].iloc[i-1] > stock_data['Long_MA'].iloc[i-1] and \\\n",
        "                stock_data['Short_MA'].iloc[i] < stock_data['Long_MA'].iloc[i]:\n",
        "            if position_sizes[symbol] > 0:\n",
        "                close_price = stock_data['Close'].loc[stock_data.index[i]][symbol]\n",
        "                position_sizes[symbol] = 0\n",
        "                print(f'[{stock_data.index[i]}] Sell all shares of {symbol} at ${close_price:.2f}')\n",
        "\n",
        "portfolio_balance = sum(position_sizes[symbol] * stock_data['Close'].iloc[-1][symbol] for symbol in symbols)\n",
        "print(f'\\nFinal Portfolio Balance: ${portfolio_balance:.2f}')\n"
      ]
    }
  ]
}